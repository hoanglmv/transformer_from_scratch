{
 "cells": [
  {
   "cell_type": "code",
   "execution_count": 13,
   "metadata": {},
   "outputs": [
    {
     "name": "stdout",
     "output_type": "stream",
     "text": [
      "tensor([[-1.3416, -0.4472,  0.4472,  1.3416],\n",
      "        [-1.3416, -0.4472,  0.4472,  1.3416]],\n",
      "       grad_fn=<NativeLayerNormBackward0>)\n"
     ]
    }
   ],
   "source": [
    "import torch\n",
    "import torch.nn as nn\n",
    "\n",
    "# Giả sử đầu vào có kích thước (batch_size=2, feature_dim=4)\n",
    "x = torch.tensor([[1.0, 2.0, 3.0, 4.0], [2.0, 3.0, 4.0, 5.0]])\n",
    "\n",
    "# Khởi tạo LayerNorm với số chiều là 4 (tương ứng với feature_dim)\n",
    "layer_norm = nn.LayerNorm(4)\n",
    "\n",
    "# Áp dụng Layer Normalization\n",
    "output = layer_norm(x)\n",
    "print(output)\n"
   ]
  },
  {
   "cell_type": "code",
   "execution_count": 14,
   "metadata": {},
   "outputs": [
    {
     "name": "stdout",
     "output_type": "stream",
     "text": [
      "tensor([[-1.2247, -1.2247, -1.2247, -1.2247],\n",
      "        [ 0.0000,  0.0000,  0.0000,  0.0000],\n",
      "        [ 1.2247,  1.2247,  1.2247,  1.2247]],\n",
      "       grad_fn=<NativeBatchNormBackward0>)\n"
     ]
    }
   ],
   "source": [
    "import torch\n",
    "import torch.nn as nn\n",
    "\n",
    "# Giả sử batch_size=3, feature_dim=4\n",
    "x = torch.tensor([[1.0, 2.0, 3.0, 4.0], \n",
    "                  [2.0, 3.0, 4.0, 5.0], \n",
    "                  [3.0, 4.0, 5.0, 6.0]])\n",
    "\n",
    "# BatchNorm1d chuẩn hóa theo batch size (m=3, d=4)\n",
    "bn = nn.BatchNorm1d(num_features=4)\n",
    "\n",
    "# Áp dụng Batch Normalization\n",
    "output = bn(x)\n",
    "print(output)\n"
   ]
  },
  {
   "cell_type": "code",
   "execution_count": 15,
   "metadata": {},
   "outputs": [
    {
     "name": "stdout",
     "output_type": "stream",
     "text": [
      "tensor([[[ 0.7562,  0.2520,  0.7577],\n",
      "         [-0.8483,  0.8329, -0.1455],\n",
      "         [-1.2316, -0.8314, -1.2689],\n",
      "         [-2.5400, -0.1638,  1.3766]],\n",
      "\n",
      "        [[-1.2316, -0.8314, -1.2689],\n",
      "         [-0.0308, -0.9525,  0.8229],\n",
      "         [-0.8483,  0.8329, -0.1455],\n",
      "         [ 1.0613, -0.2722, -1.0300]]], grad_fn=<EmbeddingBackward0>)\n"
     ]
    }
   ],
   "source": [
    "import torch\n",
    "import torch.nn as nn\n",
    "\n",
    "# Tạo một Embedding layer có 10 từ (vocab_size = 10), mỗi từ được nhúng thành vector 3 chiều.\n",
    "embedding = nn.Embedding(10, 3)\n",
    "\n",
    "# Một batch có 2 mẫu, mỗi mẫu gồm 4 từ (biểu diễn bằng chỉ số)\n",
    "input = torch.LongTensor([[1, 2, 4, 5], [4, 3, 2, 9]])\n",
    "\n",
    "# Truy xuất embedding vector cho các từ trong batch\n",
    "output = embedding(input)\n",
    "print(output)  # (batch_size=2, seq_len=4, embedding_dim=3)\n"
   ]
  },
  {
   "cell_type": "code",
   "execution_count": 16,
   "metadata": {},
   "outputs": [
    {
     "name": "stdout",
     "output_type": "stream",
     "text": [
      "tensor([[[-0.0000,  1.7753, -0.5893,  ...,  0.6431,  0.3392,  1.3575],\n",
      "         [ 0.0000,  0.7511,  2.0425,  ...,  1.5869,  0.8418,  1.9228],\n",
      "         [ 0.0000,  1.1335, -1.8044,  ..., -1.2578,  0.6375,  0.4899],\n",
      "         ...,\n",
      "         [-1.3164, -1.3258,  0.0000,  ...,  1.7872,  2.8883, -0.6204],\n",
      "         [ 0.4701,  1.1750,  0.2216,  ...,  1.4030, -1.0140,  2.3272],\n",
      "         [ 1.4968, -0.0000,  0.6190,  ...,  1.2874, -2.9233,  0.7029]],\n",
      "\n",
      "        [[-0.6325,  0.0000,  0.0000,  ...,  0.0000,  0.9860,  0.6005],\n",
      "         [ 2.4013, -0.0000, -0.3913,  ..., -0.9646, -0.6615, -0.0000],\n",
      "         [ 1.0304, -2.4809,  0.8951,  ...,  1.9867, -1.0253, -2.6687],\n",
      "         ...,\n",
      "         [ 0.6421, -0.8278,  0.7687,  ...,  0.0000,  0.2262,  1.1699],\n",
      "         [ 0.9326, -0.2455,  0.9482,  ...,  2.1814, -0.8421,  1.5301],\n",
      "         [ 2.4433, -2.6634,  1.5769,  ...,  1.1734, -0.4784,  2.1249]]])\n"
     ]
    }
   ],
   "source": [
    "import torch\n",
    "import torch.nn as nn\n",
    "import math\n",
    "import model as md\n",
    "d_model = 512   # Số chiều của vector nhúng\n",
    "seq_len = 100   # Độ dài tối đa của chuỗi\n",
    "dropout = 0.1   # Dropout rate\n",
    "\n",
    "# Khởi tạo PositionalEncoding\n",
    "pos_enc = md.PositionalEncoding(d_model, seq_len, dropout)\n",
    "\n",
    "# Tạo batch dữ liệu giả (batch_size=2, seq_len=10, d_model=512)\n",
    "x = torch.randn(2, 10, d_model)\n",
    "\n",
    "# Áp dụng Positional Encoding\n",
    "output = pos_enc(x)\n",
    "print(output)  # (2, 10, 512)\n"
   ]
  }
 ],
 "metadata": {
  "kernelspec": {
   "display_name": "Python 3",
   "language": "python",
   "name": "python3"
  },
  "language_info": {
   "codemirror_mode": {
    "name": "ipython",
    "version": 3
   },
   "file_extension": ".py",
   "mimetype": "text/x-python",
   "name": "python",
   "nbconvert_exporter": "python",
   "pygments_lexer": "ipython3",
   "version": "3.13.1"
  }
 },
 "nbformat": 4,
 "nbformat_minor": 2
}
